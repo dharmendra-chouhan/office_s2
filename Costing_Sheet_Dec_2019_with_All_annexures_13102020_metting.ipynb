{
  "nbformat": 4,
  "nbformat_minor": 0,
  "metadata": {
    "colab": {
      "name": "Costing Sheet-Dec 2019 with All annexures_13102020_metting.ipynb",
      "provenance": [],
      "collapsed_sections": [],
      "authorship_tag": "ABX9TyONRbwVUu86qPtuUxfKj8DW",
      "include_colab_link": true
    },
    "kernelspec": {
      "name": "python3",
      "display_name": "Python 3"
    }
  },
  "cells": [
    {
      "cell_type": "markdown",
      "metadata": {
        "id": "view-in-github",
        "colab_type": "text"
      },
      "source": [
        "<a href=\"https://colab.research.google.com/github/dharmendra-chouhan/office_s2/blob/master/Costing_Sheet_Dec_2019_with_All_annexures_13102020_metting.ipynb\" target=\"_parent\"><img src=\"https://colab.research.google.com/assets/colab-badge.svg\" alt=\"Open In Colab\"/></a>"
      ]
    },
    {
      "cell_type": "code",
      "metadata": {
        "id": "vu8s46xLvN90",
        "colab": {
          "base_uri": "https://localhost:8080/"
        },
        "outputId": "d929e378-9484-491b-9625-9d50c79b9eca"
      },
      "source": [
        "pip install xlsxwriter\n"
      ],
      "execution_count": 426,
      "outputs": [
        {
          "output_type": "stream",
          "text": [
            "Requirement already satisfied: xlsxwriter in /usr/local/lib/python3.6/dist-packages (1.3.7)\n"
          ],
          "name": "stdout"
        }
      ]
    },
    {
      "cell_type": "code",
      "metadata": {
        "id": "_tdlCRVE5nM-",
        "colab": {
          "base_uri": "https://localhost:8080/"
        },
        "outputId": "0e6d4273-2096-40a7-ba9a-bf604d3a65ee"
      },
      "source": [
        "pip install fuzzywuzzy\n"
      ],
      "execution_count": 427,
      "outputs": [
        {
          "output_type": "stream",
          "text": [
            "Requirement already satisfied: fuzzywuzzy in /usr/local/lib/python3.6/dist-packages (0.18.0)\n"
          ],
          "name": "stdout"
        }
      ]
    },
    {
      "cell_type": "code",
      "metadata": {
        "id": "7x52TUrfydTw"
      },
      "source": [
        "#@title *Read a Excel file from a Google drive** {display-mode: \"form\"}\n",
        "!pip install -U -q PyDrive\n",
        "from pydrive.auth import GoogleAuth\n",
        "from pydrive.drive import GoogleDrive\n",
        "from google.colab import auth\n",
        "from oauth2client.client import GoogleCredentials\n",
        "import pandas as pd\n",
        "\n",
        "# 1. Authenticate and create the PyDrive client.\n",
        "auth.authenticate_user()\n",
        "gauth = GoogleAuth()\n",
        "gauth.credentials = GoogleCredentials.get_application_default()\n",
        "drive = GoogleDrive(gauth)\n",
        "\n",
        "\n",
        "# Lab Wise Business Report_Annexure-I.xls\n",
        "downloaded = drive.CreateFile({'id':'1W31V3JFrzJDpcOIOHlpCY6ETrfxTU5Ue'}) # replace the id with id of file you want to access\n",
        "downloaded.GetContentFile('Lab Wise Business Report_Annexure-I.xls')\n",
        "\n",
        "# Lab Wise Business Report_Annexure-I.xls\n",
        "dflab_wise_business_Ann_I =  pd.read_excel('Lab Wise Business Report_Annexure-I.xls')\n",
        "dflab_wise_business_Ann_I=dflab_wise_business_Ann_I.drop([0])\n",
        "\n",
        "# HLL Expenses Summary-Annexure-II.xlsx\n",
        "downloaded = drive.CreateFile({'id':'1NaFIGXdD7WMiMIpjkkNSCi2m4YOtSIR9'}) # replace the id with id of file you want to access\n",
        "downloaded.GetContentFile('HLL Expenses Summary-Annexure-II.xlsx')\n",
        "\n",
        "# HLL Expenses Summary-Annexure-II.xlsx\n",
        "dfhll_exp_sum_aII_CONSUMABLES =  pd.read_excel('HLL Expenses Summary-Annexure-II.xlsx', sheet_name='CONSUMABLES', skiprows=1)\n",
        "dfhll_exp_sum_aII_RENT =  pd.read_excel('HLL Expenses Summary-Annexure-II.xlsx', sheet_name='RENT', skiprows=1)\n",
        "dfhll_exp_sum_aII_THYROCARE =  pd.read_excel('HLL Expenses Summary-Annexure-II.xlsx', sheet_name='THYROCARE', skiprows=1)\n",
        "dfhll_exp_sum_aII_PATHOLOGIST =  pd.read_excel('HLL Expenses Summary-Annexure-II.xlsx', sheet_name='PATHOLOGIST', skiprows=1)\n",
        "\n",
        "#LT Salary dec 19_Annexure-4.xlsx\n",
        "downloaded = drive.CreateFile({'id':'1hfYH7TfKNlDE4FDtjq90WiI6XlA_8Cpc'}) # replace the id with id of file you want to access\n",
        "downloaded.GetContentFile('LT Salary dec 19_Annexure-4.xlsx')\n",
        "LTSalarydec19Annexure4 =  pd.read_excel('LT Salary dec 19_Annexure-4.xlsx', sheet_name='Plus Care Payment Sheet', skiprows=1)\n",
        "\n",
        "#Rent for Dec 19_Annexure-5.xlsx\n",
        "downloaded = drive.CreateFile({'id':'1-UvqUpH-2pZV9_MS97Fuetp5E26U72VH'}) # replace the id with id of file you want to access\n",
        "downloaded.GetContentFile('Rent for Dec 19_Annexure-5.xlsx')\n",
        "dfRentDec19_Annexure_5 =  pd.read_excel('Rent for Dec 19_Annexure-5.xlsx', sheet_name='Sheet1', skiprows=1)\n",
        "\n",
        "#Consumables costing data for Dec'19- Without UPHCLabwise.xlsx\n",
        "downloaded = drive.CreateFile({'id':'1YJ2pzpuGiJSCi3Kgpj556gi3CIqy7BWt'}) # replace the id with id of file you want to access\n",
        "downloaded.GetContentFile('Consumables costing data for Dec''19- Without UPHCLabwise.xlsx')\n",
        "ConsumablescostingdataforDec19WithoutUPHCLabwise =  pd.read_excel('Consumables costing data for Dec''19- Without UPHCLabwise.xlsx', sheet_name='Sheet1')\n",
        "\n",
        "#Reagent calculation data for Dec'19.Without UPHCxlsx.xlsx\n",
        "downloaded = drive.CreateFile({'id':'1qCnPSTdU6lFkPLJWE1KyB1hW7zAtJGNJ'}) # replace the id with id of file you want to access\n",
        "downloaded.GetContentFile('Reagent calculation data for Dec''19.Without UPHCxlsx.xlsx')\n",
        "ReagentcalculationdataforDec19WithoutUPHCxlsx =  pd.read_excel('Reagent calculation data for Dec''19.Without UPHCxlsx.xlsx', sheet_name='Sheet2',skiprows=2)\n",
        "\n",
        "downloaded = drive.CreateFile({'id':'13a66dcdDwNcaxSIIEbhn8j2pSpyaynv9'}) # replace the id with id of file you want to access\n",
        "downloaded.GetContentFile('Annexure-8 Tally data.xlsx')\n",
        "Annexure8Tallydata =  pd.read_excel('Annexure-8 Tally data.xlsx', sheet_name='Day Book')\n",
        "\n",
        "\n",
        "\n",
        "\n",
        "\n",
        "dflab_wise_business_Ann_I = dflab_wise_business_Ann_I.rename(columns={'Lab Name': 'Lab'})\n",
        "dfhll_exp_sum_aII_CONSUMABLES = dfhll_exp_sum_aII_CONSUMABLES.rename(columns={'Location': 'Lab'})\n",
        "dfhll_exp_sum_aII_RENT = dfhll_exp_sum_aII_RENT.rename(columns={'LAB LOCATION': 'Lab'})\n",
        "dfhll_exp_sum_aII_THYROCARE = dfhll_exp_sum_aII_THYROCARE.rename(columns={'LOCATION': 'Lab'})\n",
        "dfhll_exp_sum_aII_PATHOLOGIST = dfhll_exp_sum_aII_PATHOLOGIST.rename(columns={'Lab Name': 'Lab'})\n",
        "\n",
        "\n",
        "#   2. dfhll_exp_sum_aII_CONSUMABLES\n",
        "dfhll_exp_sum_aII_CONSUMABLES['Lab'] = dfhll_exp_sum_aII_CONSUMABLES['Lab'].str.upper()\n",
        "dfhll_exp_sum_aII_CONSUMABLES['Lab'] = dfhll_exp_sum_aII_CONSUMABLES['Lab'].str.strip()\n",
        "\n",
        "  #   3. dfhll_exp_sum_aII_RENT\n",
        "dfhll_exp_sum_aII_RENT['Lab'] = dfhll_exp_sum_aII_RENT['Lab'].str.upper()\n",
        "dfhll_exp_sum_aII_RENT['Lab'] = dfhll_exp_sum_aII_RENT['Lab'].str.strip()\n",
        "  #   4. dfhll_exp_sum_aII_THYROCARE\n",
        "dfhll_exp_sum_aII_THYROCARE['Lab'] = dfhll_exp_sum_aII_THYROCARE['Lab'].str.upper()\n",
        "dfhll_exp_sum_aII_THYROCARE['Lab'] = dfhll_exp_sum_aII_THYROCARE['Lab'].str.strip()\n",
        "  #   5. dfhll_exp_sum_aII_PATHOLOGIST\n",
        "dfhll_exp_sum_aII_PATHOLOGIST['Lab'] = dfhll_exp_sum_aII_PATHOLOGIST['Lab'].str.upper()\n",
        "dfhll_exp_sum_aII_PATHOLOGIST['Lab'] = dfhll_exp_sum_aII_PATHOLOGIST['Lab'].str.strip()\n",
        "\n",
        "dfhll_exp_sum_aII_PATHOLOGIST=dfhll_exp_sum_aII_PATHOLOGIST.groupby(['Lab'])['Salary revision if any'].agg('sum').reset_index()\n",
        "\n",
        "# dfhll_exp_sum_aII_PATHOLOGIST=dfhll_exp_sum_aII_PATHOLOGIST[['Lab','Salary revision if any']]\n",
        "\n",
        "dflab_wise_business_Ann_I['Lab'] = dflab_wise_business_Ann_I['Lab'].str.upper()\n",
        "dflab_wise_business_Ann_I['Lab'] = dflab_wise_business_Ann_I['Lab'].str.strip()\n",
        "\n",
        "dfhll_exp_sum_aII_RENT_groupsum=dfhll_exp_sum_aII_RENT.groupby(['Lab'])['DEC'].agg('sum').reset_index()\n",
        "\n",
        "\n",
        "dfhll_exp_sum_aII_CONSUMABLES=dfhll_exp_sum_aII_CONSUMABLES.groupby(['Lab'])['Invoice Amt'].agg('sum').reset_index()\n",
        "\n",
        "dfhll_exp_sum_aII_THYROCARE=dfhll_exp_sum_aII_THYROCARE.groupby(['Lab'])['Sum of BILLED'].agg('sum').reset_index()\n",
        "\n",
        "\n",
        "\n",
        "# Cosolidated sheet for Dec 2019_Annexure-3.xlsx\n",
        "downloaded = drive.CreateFile({'id':'1c_dTYm16Vp9JhvB2EUu8A7x0E6869Vtj'}) # replace the id with id of file you want to access\n",
        "downloaded.GetContentFile('Cosolidated sheet for Dec 2019_Annexure-3.xlsx')\n",
        "\n",
        "# Cosolidated sheet for Dec 2019_Annexure-3.xlsx\n",
        "dfCosolidated_sheet_for_Dec_2019_Annexure_3 =  pd.read_excel('Cosolidated sheet for Dec 2019_Annexure-3.xlsx')\n",
        "\n",
        "\n",
        "new_header = dfCosolidated_sheet_for_Dec_2019_Annexure_3.iloc[0] #grab the first row for the header\n",
        "dfCosolidated_sheet_for_Dec_2019_Annexure_3 = dfCosolidated_sheet_for_Dec_2019_Annexure_3[1:] #take the data less the header row\n",
        "dfCosolidated_sheet_for_Dec_2019_Annexure_3.columns = new_header #set the header row as the df header\n",
        "dfCosolidated_sheet_for_Dec_2019_Annexure_3 = dfCosolidated_sheet_for_Dec_2019_Annexure_3[['Lab','Total Pay']]\n",
        "dfCosolidated_sheet_for_Dec_2019_Annexure_3.dropna(axis=0, inplace=True)\n",
        "dfCosolidated_sheet_for_Dec_2019_Annexure_3['Lab']=dfCosolidated_sheet_for_Dec_2019_Annexure_3['Lab'].str.upper()\n",
        "dfCosolidated_sheet_for_Dec_2019_Annexure_3['Lab']=dfCosolidated_sheet_for_Dec_2019_Annexure_3['Lab'].str.strip()\n",
        "dfCosolidated_sheet_for_Dec_2019_Annexure_3_group=dfCosolidated_sheet_for_Dec_2019_Annexure_3.groupby(['Lab'])['Total Pay'].agg('sum').reset_index()\n",
        "\n",
        "LTSalarydec19Annexure4['LAB'] = LTSalarydec19Annexure4['LAB'].str.upper()\n",
        "LTSalarydec19Annexure4['LAB']=LTSalarydec19Annexure4['LAB'].str.strip()\n",
        "LTSalarydec19Annexure4_groupsum=LTSalarydec19Annexure4.groupby(['LAB'])['Gross+Arrears+OT'].agg('sum').reset_index()\n",
        "\n",
        "\n",
        "\n",
        "\n",
        "new_header = dfRentDec19_Annexure_5.iloc[0] #grab the first row for the header\n",
        "dfRentDec19_Annexure_5 = dfRentDec19_Annexure_5[1:] #take the data less the header row\n",
        "dfRentDec19_Annexure_5.columns = new_header #set the header row as the df header\n",
        "dfRentDec19_Annexure_5 = dfRentDec19_Annexure_5[['Lab Location','Gross Rent']]\n",
        "dfRentDec19_Annexure_5.dropna(axis=0, inplace=True)\n",
        "\n",
        "\n",
        "dfRentDec19_Annexure_5 = dfRentDec19_Annexure_5.rename(columns={'Lab Location': 'Lab'})\n",
        "dfRentDec19_Annexure_5['Lab'] = dfRentDec19_Annexure_5['Lab'].str.upper()\n",
        "dfRentDec19_Annexure_5['Lab']=dfRentDec19_Annexure_5['Lab'].str.strip()\n",
        "dfRentDec19_Annexure_5_group=dfRentDec19_Annexure_5.groupby(['Lab'])['Gross Rent'].agg('sum').reset_index()\n",
        "\n",
        "\n",
        "\n",
        "ConsumablescostingdataforDec19WithoutUPHCLabwise = ConsumablescostingdataforDec19WithoutUPHCLabwise.rename(columns={'Lab Name': 'Lab'})\n",
        "ConsumablescostingdataforDec19WithoutUPHCLabwise['Lab'] = ConsumablescostingdataforDec19WithoutUPHCLabwise['Lab'].str.upper()\n",
        "ConsumablescostingdataforDec19WithoutUPHCLabwise['Lab']=ConsumablescostingdataforDec19WithoutUPHCLabwise['Lab'].str.strip()\n",
        "ConsumablescostingdataforDec19WithoutUPHCLabwise_group=ConsumablescostingdataforDec19WithoutUPHCLabwise.groupby(['Lab'])['Grand Total'].agg('sum').reset_index()\n",
        "\n",
        "\n",
        "\n",
        "\n",
        "\n",
        "\n",
        "# ReagentcalculationdataforDec19WithoutUPHCxlsx=ReagentcalculationdataforDec19WithoutUPHCxlsx.groupby(['Row Labels'])['Total'].agg('sum').reset_index()\n",
        "\n",
        "ReagentcalculationdataforDec19WithoutUPHCxlsx = ReagentcalculationdataforDec19WithoutUPHCxlsx.rename(columns={'Row Labels': 'Lab'})\n",
        "ReagentcalculationdataforDec19WithoutUPHCxlsx['Lab'] = ReagentcalculationdataforDec19WithoutUPHCxlsx['Lab'].str.upper()\n",
        "ReagentcalculationdataforDec19WithoutUPHCxlsx['Lab']=ReagentcalculationdataforDec19WithoutUPHCxlsx['Lab'].str.strip()\n",
        "ReagentcalculationdataforDec19WithoutUPHCxlsx_group=ReagentcalculationdataforDec19WithoutUPHCxlsx.groupby(['Lab'])['Total'].agg('sum').reset_index()\n",
        "\n"
      ],
      "execution_count": 428,
      "outputs": []
    },
    {
      "cell_type": "code",
      "metadata": {
        "id": "FQSa141jzlNx",
        "colab": {
          "base_uri": "https://localhost:8080/",
          "height": 17
        },
        "outputId": "2bfe6ff1-a83c-44d8-ac22-a084c4476b98"
      },
      "source": [
        "#@title *Download Cosolidated sheet ** {display-mode: \"form\"}\n",
        "import pandas as pd\n",
        "from google.colab import files\n",
        "from fuzzywuzzy import fuzz\n",
        "from fuzzywuzzy import process\n",
        "\n",
        "CostingSheet = pd.DataFrame()\n",
        "dflab_wise_business_Ann_I['Lab']=dflab_wise_business_Ann_I['Lab'].str.strip()\n",
        "CostingSheet['LAB NAME']=dflab_wise_business_Ann_I['Lab']\n",
        "CostingSheet['District']=dflab_wise_business_Ann_I['District Name']\n",
        "CostingSheet['Type of LAB']=''\n",
        "CostingSheet['No. of Test']=dflab_wise_business_Ann_I['Total Special']+dflab_wise_business_Ann_I['Total Normal']\n",
        "CostingSheet['No. of Sample']=dflab_wise_business_Ann_I['Total Patient']\n",
        "CostingSheet['MONTH']='Dec'\n",
        "CostingSheet['Total Revenue']=dflab_wise_business_Ann_I['Total Revenue']\n",
        "CostingSheet['TAT']=dflab_wise_business_Ann_I['Total Penalty']\n",
        "CostingSheet['Revenue After TAT']=dflab_wise_business_Ann_I['Claim Amount']\n",
        "CostingSheet['HLL Margin @ 6.01%']=''\n",
        "\n",
        "\n",
        "dfhll_exp_sum_aII_RENT = dfhll_exp_sum_aII_RENT[dfhll_exp_sum_aII_RENT['Lab'].notna()]\n",
        "dfhll_exp_sum_aII_RENT_groupsum['Lab']=dfhll_exp_sum_aII_RENT_groupsum['Lab'].str.strip()\n",
        "\n",
        "rent_mismatch=dfhll_exp_sum_aII_RENT_groupsum[~dfhll_exp_sum_aII_RENT_groupsum.Lab.isin(CostingSheet['LAB NAME'].values)]\n",
        "rent_missingdata=dfhll_exp_sum_aII_RENT_groupsum[~dfhll_exp_sum_aII_RENT_groupsum.Lab.isin(CostingSheet['LAB NAME'].values)]\n",
        "\n",
        "for i, j in rent_missingdata.iterrows():\n",
        "    labrent=CostingSheet[CostingSheet.apply(lambda row: fuzz.token_sort_ratio(row['LAB NAME'], j['Lab']), axis=1) > 70]['LAB NAME'].count()==1 \n",
        "\n",
        "    if  labrent==1:\n",
        "      newvalues=CostingSheet[CostingSheet.apply(lambda row: fuzz.token_sort_ratio(row['LAB NAME'], j['Lab']), axis=1) > 70]['LAB NAME'].values[0]\n",
        "      dfhll_exp_sum_aII_RENT_groupsum['Lab'] = dfhll_exp_sum_aII_RENT_groupsum['Lab'].replace([j['Lab']],newvalues)\n",
        "\n",
        "rent_missingdata=dfhll_exp_sum_aII_RENT_groupsum[~dfhll_exp_sum_aII_RENT_groupsum.Lab.isin(CostingSheet['LAB NAME'].values)]\n",
        "for i, j in rent_missingdata.iterrows():\n",
        "    labrent=CostingSheet[CostingSheet.apply(lambda row: fuzz.token_sort_ratio(row['LAB NAME'], j['Lab']), axis=1) > 90]['LAB NAME'].count()==1 \n",
        "\n",
        "    if  labrent==1:\n",
        "      newvalues=CostingSheet[CostingSheet.apply(lambda row: fuzz.token_sort_ratio(row['LAB NAME'], j['Lab']), axis=1) > 90]['LAB NAME'].values[0]\n",
        "      dfhll_exp_sum_aII_RENT_groupsum['Lab'] = dfhll_exp_sum_aII_RENT_groupsum['Lab'].replace([j['Lab']],newvalues)\n",
        "\n",
        "\n",
        "CostingSheet = pd.merge(CostingSheet, dfhll_exp_sum_aII_RENT_groupsum, how='left', left_on='LAB NAME', right_on='Lab')\n",
        "CostingSheet=CostingSheet.drop(['Lab'], axis = 1) \n",
        "CostingSheet.rename(columns = {'DEC':'Rent'}, inplace = True) \n",
        "\n",
        "rent_missingdata=dfhll_exp_sum_aII_RENT_groupsum[~dfhll_exp_sum_aII_RENT_groupsum.Lab.isin(CostingSheet['LAB NAME'].values)]\n",
        "\n",
        "\n",
        "for i, j in rent_missingdata.iterrows():\n",
        "  x=CostingSheet[CostingSheet.apply(lambda row: fuzz.token_sort_ratio(row['LAB NAME'], j['Lab']), axis=1) > 80]\n",
        "  x=x[x['Rent'].isnull()]\n",
        "  labrent=x[x.apply(lambda row: fuzz.token_sort_ratio(row['LAB NAME'], j['Lab']), axis=1) > 80]['LAB NAME'].count()==1 \n",
        "  if  labrent==1:\n",
        "      newvalues=x[x.apply(lambda row: fuzz.token_sort_ratio(row['LAB NAME'], j['Lab']), axis=1) > 80]['LAB NAME'].values[0]\n",
        "      dfhll_exp_sum_aII_RENT_groupsum['Lab'] = dfhll_exp_sum_aII_RENT_groupsum['Lab'].replace([j['Lab']],newvalues)\n",
        "\n",
        "\n",
        "CostingSheet = pd.merge(CostingSheet, dfhll_exp_sum_aII_RENT_groupsum, how='left', left_on='LAB NAME', right_on='Lab')\n",
        "CostingSheet=CostingSheet.drop(['Lab'], axis = 1) \n",
        "CostingSheet=CostingSheet.drop(['Rent'], axis = 1) \n",
        "CostingSheet.rename(columns = {'DEC':'Rent'}, inplace = True)\n",
        "rent_missingdata=dfhll_exp_sum_aII_RENT_groupsum[~dfhll_exp_sum_aII_RENT_groupsum.Lab.isin(CostingSheet['LAB NAME'].values)]\n",
        "\n",
        "\n",
        "\n",
        "CostingSheet['FTC & Permanent Employee Salary']=''\n",
        "\n",
        "\n",
        "dfhll_exp_sum_aII_PATHOLOGIST['Lab']=dfhll_exp_sum_aII_PATHOLOGIST['Lab'].str.strip()\n",
        "PathalogistConsultancy_missingdata=dfhll_exp_sum_aII_PATHOLOGIST[~dfhll_exp_sum_aII_PATHOLOGIST.Lab.isin(CostingSheet['LAB NAME'].values)]\n",
        "PathalogistConsultancy_missingdata_all=dfhll_exp_sum_aII_PATHOLOGIST[~dfhll_exp_sum_aII_PATHOLOGIST.Lab.isin(CostingSheet['LAB NAME'].values)]\n",
        "for i, j1 in PathalogistConsultancy_missingdata.iterrows():\n",
        "    labrent=CostingSheet[CostingSheet.apply(lambda row: fuzz.token_sort_ratio(row['LAB NAME'], j1['Lab']), axis=1) > 70]['LAB NAME'].count()==1 \n",
        "\n",
        "    if  labrent==1:\n",
        "      newvalues=CostingSheet[CostingSheet.apply(lambda row: fuzz.token_sort_ratio(row['LAB NAME'], j1['Lab']), axis=1) > 70]['LAB NAME'].values[0]\n",
        "      dfhll_exp_sum_aII_PATHOLOGIST['Lab'] = dfhll_exp_sum_aII_PATHOLOGIST['Lab'].replace([j1['Lab']],newvalues)\n",
        "\n",
        "\n",
        "\n",
        "PathalogistConsultancy_missingdata=dfhll_exp_sum_aII_PATHOLOGIST[~dfhll_exp_sum_aII_PATHOLOGIST.Lab.isin(CostingSheet['LAB NAME'].values)]\n",
        "\n",
        "for i, j1 in PathalogistConsultancy_missingdata.iterrows():\n",
        "    labrent=CostingSheet[CostingSheet.apply(lambda row: fuzz.token_sort_ratio(row['LAB NAME'], j1['Lab']), axis=1) > 90]['LAB NAME'].count()==1 \n",
        "\n",
        "    if  labrent==1:\n",
        "      newvalues=CostingSheet[CostingSheet.apply(lambda row: fuzz.token_sort_ratio(row['LAB NAME'], j1['Lab']), axis=1) > 90]['LAB NAME'].values[0]\n",
        "      dfhll_exp_sum_aII_PATHOLOGIST['Lab'] = dfhll_exp_sum_aII_PATHOLOGIST['Lab'].replace([j1['Lab']],newvalues)\n",
        "\n",
        "\n",
        "CostingSheet = pd.merge(CostingSheet, dfhll_exp_sum_aII_PATHOLOGIST, how='left', left_on='LAB NAME', right_on='Lab')\n",
        "CostingSheet=CostingSheet.drop(['Lab'], axis = 1) \n",
        "CostingSheet.rename(columns = {'Salary revision if any':'Pathalogist Consultancy'}, inplace = True) \n",
        "\n",
        "PathalogistConsultancy_missingdata=dfhll_exp_sum_aII_PATHOLOGIST[~dfhll_exp_sum_aII_PATHOLOGIST.Lab.isin(CostingSheet['LAB NAME'].values)]\n",
        "\n",
        "for i, j in PathalogistConsultancy_missingdata.iterrows():\n",
        "  x=CostingSheet[CostingSheet.apply(lambda row: fuzz.token_sort_ratio(row['LAB NAME'], j['Lab']), axis=1) > 80]\n",
        "  x=x[x['Pathalogist Consultancy'].isnull()]\n",
        "  labrent=x[x.apply(lambda row: fuzz.token_sort_ratio(row['LAB NAME'], j['Lab']), axis=1) > 80]['LAB NAME'].count()==1 \n",
        "  if  labrent==1:\n",
        "      newvalues=x[x.apply(lambda row: fuzz.token_sort_ratio(row['LAB NAME'], j['Lab']), axis=1) > 80]['LAB NAME'].values[0]\n",
        "      dfhll_exp_sum_aII_PATHOLOGIST['Lab'] = dfhll_exp_sum_aII_PATHOLOGIST['Lab'].replace([j['Lab']],newvalues)\n",
        "\n",
        "CostingSheet = pd.merge(CostingSheet, dfhll_exp_sum_aII_PATHOLOGIST, how='left', left_on='LAB NAME', right_on='Lab')\n",
        "CostingSheet=CostingSheet.drop(['Lab'], axis = 1) \n",
        "CostingSheet=CostingSheet.drop(['Pathalogist Consultancy'], axis = 1) \n",
        "CostingSheet.rename(columns = {'Salary revision if any':'Pathalogist Consultancy'}, inplace = True)\n",
        "\n",
        "PathalogistConsultancy_missingdata=dfhll_exp_sum_aII_PATHOLOGIST[~dfhll_exp_sum_aII_PATHOLOGIST.Lab.isin(CostingSheet['LAB NAME'].values)]\n",
        "\n",
        "\n",
        "CONSUMABLES_missingdata=dfhll_exp_sum_aII_CONSUMABLES[~dfhll_exp_sum_aII_CONSUMABLES.Lab.isin(CostingSheet['LAB NAME'].values)]\n",
        "CONSUMABLES_missingdat_all=dfhll_exp_sum_aII_CONSUMABLES[~dfhll_exp_sum_aII_CONSUMABLES.Lab.isin(CostingSheet['LAB NAME'].values)]\n",
        "for i, j in CONSUMABLES_missingdata.iterrows():\n",
        "  x=CostingSheet[CostingSheet.apply(lambda row: fuzz.token_sort_ratio(row['LAB NAME'], j['Lab']), axis=1) > 80]\n",
        "  x=x[x['Rent'].isnull()]\n",
        "  labrent=x[x.apply(lambda row: fuzz.token_sort_ratio(row['LAB NAME'], j['Lab']), axis=1) > 80]['LAB NAME'].count()==1 \n",
        "  if  labrent==1:\n",
        "      newvalues=x[x.apply(lambda row: fuzz.token_sort_ratio(row['LAB NAME'], j['Lab']), axis=1) > 80]['LAB NAME'].values[0]\n",
        "      dfhll_exp_sum_aII_CONSUMABLES['Lab'] = dfhll_exp_sum_aII_CONSUMABLES['Lab'].replace([j['Lab']],newvalues)\n",
        "\n",
        "\n",
        "dfhll_exp_sum_aII_CONSUMABLES['Lab']=dfhll_exp_sum_aII_CONSUMABLES['Lab'].str.strip()\n",
        "CostingSheet = pd.merge(CostingSheet, dfhll_exp_sum_aII_CONSUMABLES, how='left', left_on='LAB NAME', right_on='Lab')\n",
        "CostingSheet=CostingSheet.drop(['Lab'], axis = 1) \n",
        "CostingSheet.rename(columns = {'Invoice Amt':'Reagent'}, inplace = True) \n",
        "CONSUMABLES_missingdata=dfhll_exp_sum_aII_CONSUMABLES[~dfhll_exp_sum_aII_CONSUMABLES.Lab.isin(CostingSheet['LAB NAME'].values)]\n",
        "\n",
        "\n",
        "THYROCARE_missingdata=dfhll_exp_sum_aII_THYROCARE[~dfhll_exp_sum_aII_THYROCARE.Lab.isin(CostingSheet['LAB NAME'].values)]\n",
        "THYROCARE_missingdata_all=dfhll_exp_sum_aII_THYROCARE[~dfhll_exp_sum_aII_THYROCARE.Lab.isin(CostingSheet['LAB NAME'].values)]\n",
        "for i, j in THYROCARE_missingdata.iterrows():\n",
        "    labrent=CostingSheet[CostingSheet.apply(lambda row: fuzz.token_sort_ratio(row['LAB NAME'], j['Lab']), axis=1) > 70]['LAB NAME'].count()==1 \n",
        "\n",
        "    if  labrent==1:\n",
        "      newvalues=CostingSheet[CostingSheet.apply(lambda row: fuzz.token_sort_ratio(row['LAB NAME'], j['Lab']), axis=1) > 70]['LAB NAME'].values[0]\n",
        "      dfhll_exp_sum_aII_THYROCARE['Lab'] = dfhll_exp_sum_aII_THYROCARE['Lab'].replace([j['Lab']],newvalues)\n",
        "\n",
        "\n",
        "\n",
        "\n",
        "dfhll_exp_sum_aII_THYROCARE['Lab']=dfhll_exp_sum_aII_THYROCARE['Lab'].str.strip()\n",
        "CostingSheet = pd.merge(CostingSheet, dfhll_exp_sum_aII_THYROCARE, how='left', left_on='LAB NAME', right_on='Lab')\n",
        "CostingSheet=CostingSheet.drop(['Lab'], axis = 1) \n",
        "CostingSheet.rename(columns = {'Sum of BILLED':'Payment to Thyrocare for Outsourcing Test'}, inplace = True) \n",
        "\n",
        "\n",
        "THYROCARE_missingdata=dfhll_exp_sum_aII_THYROCARE[~dfhll_exp_sum_aII_THYROCARE.Lab.isin(CostingSheet['LAB NAME'].values)]\n",
        "\n",
        "\n",
        "\n",
        "CostingSheet['Adm. Expenses']=''\n",
        "\n",
        "\n",
        "dfCosolidated_sheet_for_Dec_2019_Annexure_3_missingdata_all=dfCosolidated_sheet_for_Dec_2019_Annexure_3_group[~dfCosolidated_sheet_for_Dec_2019_Annexure_3_group.Lab.isin(CostingSheet['LAB NAME'].values)]\n",
        "dfCosolidated_sheet_for_Dec_2019_Annexure_3_missingdata=dfCosolidated_sheet_for_Dec_2019_Annexure_3_group[~dfCosolidated_sheet_for_Dec_2019_Annexure_3_group.Lab.isin(CostingSheet['LAB NAME'].values)]\n",
        "CostingSheet = pd.merge(CostingSheet, dfCosolidated_sheet_for_Dec_2019_Annexure_3_group, how='left', left_on='LAB NAME', right_on='Lab')\n",
        "CostingSheet=CostingSheet.drop(['Lab'], axis = 1) \n",
        "CostingSheet.rename(columns = {'Total Pay':'Manpower provided from S2 Infotech'}, inplace = True) \n",
        "\n",
        "\n",
        "\n",
        "CostingSheet['Adm. Expenses (S2 Infotech)']=''\n",
        "\n",
        "\n",
        "\n",
        "\n",
        "LTSalarydec19Annexure4_groupsum_missing_all=LTSalarydec19Annexure4_groupsum[~LTSalarydec19Annexure4_groupsum.LAB.isin(CostingSheet['LAB NAME'].values)]\n",
        "LTSalarydec19Annexure4_groupsum_missing=LTSalarydec19Annexure4_groupsum[~LTSalarydec19Annexure4_groupsum.LAB.isin(CostingSheet['LAB NAME'].values)]\n",
        "CostingSheet = pd.merge(CostingSheet, LTSalarydec19Annexure4_groupsum, how='left', left_on='LAB NAME', right_on='LAB')\n",
        "CostingSheet=CostingSheet.drop(['LAB'], axis = 1) \n",
        "CostingSheet.rename(columns = {'Gross+Arrears+OT':'Manpower provided from Plus Care'}, inplace = True) \n",
        "\n",
        "\n",
        "\n",
        "dfRentDec19_Annexure_5_group_missing_all=dfRentDec19_Annexure_5_group[~dfRentDec19_Annexure_5_group.Lab.isin(CostingSheet['LAB NAME'].values)]\n",
        "dfRentDec19_Annexure_5_group_missing=dfRentDec19_Annexure_5_group[~dfRentDec19_Annexure_5_group.Lab.isin(CostingSheet['LAB NAME'].values)]\n",
        "CostingSheet = pd.merge(CostingSheet, dfRentDec19_Annexure_5_group, how='left', left_on='LAB NAME', right_on='Lab')\n",
        "CostingSheet=CostingSheet.drop(['Lab'], axis = 1) \n",
        "CostingSheet.rename(columns = {'Gross Rent':'Rent2'}, inplace = True)\n",
        "\n",
        "\n",
        "ConsumablescostingdataforDec19WithoutUPHCLabwise_group_missing_all=ConsumablescostingdataforDec19WithoutUPHCLabwise_group[~ConsumablescostingdataforDec19WithoutUPHCLabwise_group.Lab.isin(CostingSheet['LAB NAME'].values)]\n",
        "ConsumablescostingdataforDec19WithoutUPHCLabwise_group_missing    =ConsumablescostingdataforDec19WithoutUPHCLabwise_group[~ConsumablescostingdataforDec19WithoutUPHCLabwise_group.Lab.isin(CostingSheet['LAB NAME'].values)]\n",
        "CostingSheet = pd.merge(CostingSheet, ConsumablescostingdataforDec19WithoutUPHCLabwise_group, how='left', left_on='LAB NAME', right_on='Lab')\n",
        "CostingSheet=CostingSheet.drop(['Lab'], axis = 1) \n",
        "CostingSheet.rename(columns = {'Grand Total':'Consumable'}, inplace = True)\n",
        "\n",
        "\n",
        "\n",
        "ReagentcalculationdataforDec19WithoutUPHCxlsx_group_missing_all=ReagentcalculationdataforDec19WithoutUPHCxlsx_group[~ReagentcalculationdataforDec19WithoutUPHCxlsx_group.Lab.isin(CostingSheet['LAB NAME'].values)]\n",
        "ReagentcalculationdataforDec19WithoutUPHCxlsx_group_missing    =ReagentcalculationdataforDec19WithoutUPHCxlsx_group[~ReagentcalculationdataforDec19WithoutUPHCxlsx_group.Lab.isin(CostingSheet['LAB NAME'].values)]\n",
        "CostingSheet = pd.merge(CostingSheet, ReagentcalculationdataforDec19WithoutUPHCxlsx_group, how='left', left_on='LAB NAME', right_on='Lab')\n",
        "CostingSheet=CostingSheet.drop(['Lab'], axis = 1) \n",
        "CostingSheet.rename(columns = {'Total':'Reagent'}, inplace = True)\n",
        "\n",
        "\n",
        "CostingSheet['Manpower Salary (Technician, Runner,Cleaner)']=''\n",
        "CostingSheet['Courier Charges']=''\n",
        "CostingSheet['Electricity Charges ']=''\n",
        "CostingSheet['Transportation Charges']=''\n",
        "CostingSheet['Others Lab Expenses ']=''\n",
        "CostingSheet['Core Staff Salary']=''\n",
        "CostingSheet['Total Expenses']=''\n",
        "CostingSheet['Proffit Amt.']=''\n",
        "CostingSheet['% of Proffit']=''\n",
        "\n",
        "\n",
        "CostingSheet.to_excel('CostingSheet.xlsx', sheet_name='dfCostingSheet')\n",
        "files.download('CostingSheet.xlsx')\n"
      ],
      "execution_count": 429,
      "outputs": [
        {
          "output_type": "display_data",
          "data": {
            "application/javascript": [
              "\n",
              "    async function download(id, filename, size) {\n",
              "      if (!google.colab.kernel.accessAllowed) {\n",
              "        return;\n",
              "      }\n",
              "      const div = document.createElement('div');\n",
              "      const label = document.createElement('label');\n",
              "      label.textContent = `Downloading \"${filename}\": `;\n",
              "      div.appendChild(label);\n",
              "      const progress = document.createElement('progress');\n",
              "      progress.max = size;\n",
              "      div.appendChild(progress);\n",
              "      document.body.appendChild(div);\n",
              "\n",
              "      const buffers = [];\n",
              "      let downloaded = 0;\n",
              "\n",
              "      const channel = await google.colab.kernel.comms.open(id);\n",
              "      // Send a message to notify the kernel that we're ready.\n",
              "      channel.send({})\n",
              "\n",
              "      for await (const message of channel.messages) {\n",
              "        // Send a message to notify the kernel that we're ready.\n",
              "        channel.send({})\n",
              "        if (message.buffers) {\n",
              "          for (const buffer of message.buffers) {\n",
              "            buffers.push(buffer);\n",
              "            downloaded += buffer.byteLength;\n",
              "            progress.value = downloaded;\n",
              "          }\n",
              "        }\n",
              "      }\n",
              "      const blob = new Blob(buffers, {type: 'application/binary'});\n",
              "      const a = document.createElement('a');\n",
              "      a.href = window.URL.createObjectURL(blob);\n",
              "      a.download = filename;\n",
              "      div.appendChild(a);\n",
              "      a.click();\n",
              "      div.remove();\n",
              "    }\n",
              "  "
            ],
            "text/plain": [
              "<IPython.core.display.Javascript object>"
            ]
          },
          "metadata": {
            "tags": []
          }
        },
        {
          "output_type": "display_data",
          "data": {
            "application/javascript": [
              "download(\"download_5e5b7d5d-ba68-4592-9b03-644da19d2d17\", \"CostingSheet.xlsx\", 20987)"
            ],
            "text/plain": [
              "<IPython.core.display.Javascript object>"
            ]
          },
          "metadata": {
            "tags": []
          }
        }
      ]
    },
    {
      "cell_type": "code",
      "metadata": {
        "id": "D7pVV-Kw1a5Z",
        "colab": {
          "base_uri": "https://localhost:8080/",
          "height": 17
        },
        "outputId": "fef9a556-1742-432e-876e-a1b7c3531096"
      },
      "source": [
        "#@title *Download Missing data ** {display-mode: \"form\"}\n",
        "import pandas as pd\n",
        "\n",
        "\n",
        "# Create a Pandas Excel writer using XlsxWriter as the engine.\n",
        "writer = pd.ExcelWriter('mismatch_data.xlsx', engine='xlsxwriter')\n",
        "\n",
        "# Position the dataframes in the worksheet.\n",
        "rent_mismatch.to_excel(writer, sheet_name='Rent')  # Default position, cell A1.\n",
        "rent_missingdata.to_excel(writer, sheet_name='Rent', startcol=3)\n",
        "\n",
        "\n",
        "# Position the dataframes in the worksheet.\n",
        "PathalogistConsultancy_missingdata_all.to_excel(writer, sheet_name='Pathalogist Consultancy')  # Default position, cell A1.\n",
        "PathalogistConsultancy_missingdata.to_excel(writer, sheet_name='Pathalogist Consultancy', startcol=3)\n",
        "\n",
        "\n",
        "CONSUMABLES_missingdat_all.to_excel(writer, sheet_name='Reagent')  # Default position, cell A1.\n",
        "CONSUMABLES_missingdata.to_excel(writer, sheet_name='Reagent', startcol=3)\n",
        "\n",
        "THYROCARE_missingdata_all.to_excel(writer, sheet_name='PaymenttoThyrocare')  # Default position, cell A1.\n",
        "THYROCARE_missingdata.to_excel(writer, sheet_name='PaymenttoThyrocare', startcol=3)\n",
        "\n",
        "dfCosolidated_sheet_for_Dec_2019_Annexure_3_missingdata_all.to_excel(writer, sheet_name='Manpoprofs2info')  # Default position, cell A1.\n",
        "dfCosolidated_sheet_for_Dec_2019_Annexure_3_missingdata.to_excel(writer, sheet_name='Manpoprofs2info', startcol=3)\n",
        "\n",
        "\n",
        "LTSalarydec19Annexure4_groupsum_missing_all.to_excel(writer, sheet_name='ManPoerProvidedPlusCare')  # Default position, cell A1.\n",
        "LTSalarydec19Annexure4_groupsum_missing.to_excel(writer, sheet_name='ManPoerProvidedPlusCare', startcol=3)\n",
        "\n",
        "\n",
        "dfRentDec19_Annexure_5_group_missing_all.to_excel(writer, sheet_name='Rent2')  # Default position, cell A1.\n",
        "dfRentDec19_Annexure_5_group_missing.to_excel(writer, sheet_name='Rent2', startcol=3)\n",
        "\n",
        "ConsumablescostingdataforDec19WithoutUPHCLabwise_group_missing_all.to_excel(writer, sheet_name='consumable')  # Default position, cell A1.\n",
        "ConsumablescostingdataforDec19WithoutUPHCLabwise_group_missing.to_excel(writer, sheet_name='consumable', startcol=3)\n",
        "\n",
        "\n",
        "ReagentcalculationdataforDec19WithoutUPHCxlsx_group_missing_all.to_excel(writer, sheet_name='Reagent2')  # Default position, cell A1.\n",
        "ReagentcalculationdataforDec19WithoutUPHCxlsx_group_missing.to_excel(writer, sheet_name='Reagent2', startcol=3)\n",
        "\n",
        "\n",
        "\n",
        "# Close the Pandas Excel writer and output the Excel file.\n",
        "writer.save()\n",
        "from google.colab import files\n",
        "files.download(writer)\n"
      ],
      "execution_count": 430,
      "outputs": [
        {
          "output_type": "display_data",
          "data": {
            "application/javascript": [
              "\n",
              "    async function download(id, filename, size) {\n",
              "      if (!google.colab.kernel.accessAllowed) {\n",
              "        return;\n",
              "      }\n",
              "      const div = document.createElement('div');\n",
              "      const label = document.createElement('label');\n",
              "      label.textContent = `Downloading \"${filename}\": `;\n",
              "      div.appendChild(label);\n",
              "      const progress = document.createElement('progress');\n",
              "      progress.max = size;\n",
              "      div.appendChild(progress);\n",
              "      document.body.appendChild(div);\n",
              "\n",
              "      const buffers = [];\n",
              "      let downloaded = 0;\n",
              "\n",
              "      const channel = await google.colab.kernel.comms.open(id);\n",
              "      // Send a message to notify the kernel that we're ready.\n",
              "      channel.send({})\n",
              "\n",
              "      for await (const message of channel.messages) {\n",
              "        // Send a message to notify the kernel that we're ready.\n",
              "        channel.send({})\n",
              "        if (message.buffers) {\n",
              "          for (const buffer of message.buffers) {\n",
              "            buffers.push(buffer);\n",
              "            downloaded += buffer.byteLength;\n",
              "            progress.value = downloaded;\n",
              "          }\n",
              "        }\n",
              "      }\n",
              "      const blob = new Blob(buffers, {type: 'application/binary'});\n",
              "      const a = document.createElement('a');\n",
              "      a.href = window.URL.createObjectURL(blob);\n",
              "      a.download = filename;\n",
              "      div.appendChild(a);\n",
              "      a.click();\n",
              "      div.remove();\n",
              "    }\n",
              "  "
            ],
            "text/plain": [
              "<IPython.core.display.Javascript object>"
            ]
          },
          "metadata": {
            "tags": []
          }
        },
        {
          "output_type": "display_data",
          "data": {
            "application/javascript": [
              "download(\"download_2e1cff1a-218d-41fd-9212-754e2c19cc7b\", \"mismatch_data.xlsx\", 11334)"
            ],
            "text/plain": [
              "<IPython.core.display.Javascript object>"
            ]
          },
          "metadata": {
            "tags": []
          }
        }
      ]
    },
    {
      "cell_type": "code",
      "metadata": {
        "id": "qbQusKoSMOze"
      },
      "source": [
        "LAB=CostingSheet['LAB NAME']\n",
        "tallydatadf = pd.DataFrame({'LABNAME':LAB,'Courier Charges':LAB})\n",
        "tallydatadf['Courier Charges']=0\n"
      ],
      "execution_count": 431,
      "outputs": []
    },
    {
      "cell_type": "code",
      "metadata": {
        "id": "jYyh7v_3AK8L"
      },
      "source": [
        "# Annexure8Tallydata.head(25)\n",
        "import numpy as np\n",
        "Annexure8Tallydata_one=Annexure8Tallydata[Annexure8Tallydata.Date.notnull() | Annexure8Tallydata.Amount.notnull() |Annexure8Tallydata['Debit Amount'].notnull() ]\n",
        "Annexure8Tallydata_one = Annexure8Tallydata_one.drop(\"Unnamed: 3\", axis=1)\n",
        "Annexure8Tallydata_one = Annexure8Tallydata_one.drop(\"Vch Type\", axis=1)\n",
        "Annexure8Tallydata_one = Annexure8Tallydata_one.drop(\"Vch No.\", axis=1)\n",
        "# Annexure8Tallydata_one = Annexure8Tallydata_one.drop(\"Debit Amount\", axis=1)\n",
        "# Annexure8Tallydata_one = Annexure8Tallydata_one.drop(\"Credit Amount\", axis=1)\n",
        "# Annexure8Tallydata_one = Annexure8Tallydata_one.drop(\"Date\", axis=1)\n",
        "Annexure8Tallydata_one['Amount'] = Annexure8Tallydata_one['Amount'].replace(np.nan, 0)\n",
        "\n",
        "\n",
        "Annexure8Tallydata_one.reset_index(inplace = True, drop = True) "
      ],
      "execution_count": 432,
      "outputs": []
    },
    {
      "cell_type": "code",
      "metadata": {
        "colab": {
          "base_uri": "https://localhost:8080/"
        },
        "id": "pbAaeeQM-icX",
        "outputId": "1d3d8195-d29f-4073-e076-235b7d020eb7"
      },
      "source": [
        "Annexure8Tallydata_one.info()"
      ],
      "execution_count": 433,
      "outputs": [
        {
          "output_type": "stream",
          "text": [
            "<class 'pandas.core.frame.DataFrame'>\n",
            "RangeIndex: 2779 entries, 0 to 2778\n",
            "Data columns (total 5 columns):\n",
            " #   Column         Non-Null Count  Dtype  \n",
            "---  ------         --------------  -----  \n",
            " 0   Date           2778 non-null   object \n",
            " 1   Particulars    2779 non-null   object \n",
            " 2   Amount         2779 non-null   float64\n",
            " 3   Debit Amount   1751 non-null   float64\n",
            " 4   Credit Amount  102 non-null    float64\n",
            "dtypes: float64(3), object(2)\n",
            "memory usage: 108.7+ KB\n"
          ],
          "name": "stdout"
        }
      ]
    },
    {
      "cell_type": "code",
      "metadata": {
        "id": "or7j7Am33vYS"
      },
      "source": [
        "# for key, column in Annexure8Tallydata_one.iterrows():\n",
        "#     print (str(key)+'  ' +str(column.Date)+\"          \"+str(column.Particulars) +\"          \"+str(column.Amount) )\n",
        "\n",
        "# tallydatadf1\n",
        "\n",
        "# for index, row in Annexure8Tallydata_one.iterrows():\n",
        "#   # if (row['Date']=='#' or row['Date']=='#1' or row['Particulars']=='Courier Charges' ):\n",
        "#   if (row['Date']=='#' or row['Date']=='#1' or row['Particulars']=='Courier Charges' ):\n",
        "#     print(str(index).ljust(25), str(row['Date']).ljust(30), str(row['Particulars']).ljust(25),str(row['Amount']).ljust(30),str(row['Debit Amount']).ljust(30),str(row['Credit Amount']))\n",
        "#     print()\n",
        "    # print(str(index).ljust(25), str(row['Date']).ljust(30), str(row['Particulars']).ljust(25),str(row['Amount']).ljust(30),str(row['Debit Amount']).ljust(30),str(row['Credit Amount']))"
      ],
      "execution_count": 434,
      "outputs": []
    },
    {
      "cell_type": "code",
      "metadata": {
        "id": "i_k0zoSla0MI"
      },
      "source": [
        "# tallydatadf['LABNAME'] = tallydatadf['LABNAME'].str.upper()\n",
        "# tallydatadf['LABNAME'] = tallydatadf['LABNAME'].str.strip()\n",
        "\n",
        "# Annexure8Tallydata_one['Particulars'] = Annexure8Tallydata_one['Particulars'].str.upper()\n",
        "# Annexure8Tallydata_one['Particulars'] = Annexure8Tallydata_one['Particulars'].str.strip()\n"
      ],
      "execution_count": 435,
      "outputs": []
    },
    {
      "cell_type": "code",
      "metadata": {
        "colab": {
          "base_uri": "https://localhost:8080/"
        },
        "id": "t-jKGF4yvZkB",
        "outputId": "49c89b2a-bde8-46c3-f7d7-0d7e23710e93"
      },
      "source": [
        "Annexure8Tallydata_one.reset_index(drop=True)\n",
        "# Annexure8Tallydata_one['Particulars'] = Annexure8Tallydata_one['Particulars'].str.upper() \n",
        "for index1, row1 in tallydatadf.iterrows():\n",
        "  labname=row1['LABNAME']\n",
        "  for index, row in Annexure8Tallydata_one.iterrows():\n",
        "    \n",
        "    if (str(row['Particulars']).lower()==labname.lower()):\n",
        "      # print(str(index).ljust(25), str(row['Date']).ljust(30), str(row['Particulars']).ljust(25),str(row['Amount']).ljust(30))\n",
        "      \n",
        "      if Annexure8Tallydata_one.loc[index - 1, 'Particulars'] == 'Courier Charges':\n",
        "          print( str(row['Particulars']).ljust(25), str(Annexure8Tallydata_one[\"Particulars\"].iloc[index-1]).ljust(25),str(row['Amount']).ljust(30))\n"
      ],
      "execution_count": 436,
      "outputs": [
        {
          "output_type": "stream",
          "text": [
            "Akola                     Courier Charges           7150.0                        \n",
            "Akot                      Courier Charges           2620.0                        \n",
            "Murtizapur                Courier Charges           860.0                         \n",
            "Achalpur                  Courier Charges           4750.0                        \n",
            "Amravati                  Courier Charges           16040.0                       \n",
            "Dharni                    Courier Charges           6200.0                        \n",
            "Warud                     Courier Charges           3580.0                        \n",
            "Buldhana                  Courier Charges           11411.0                       \n",
            "Buldhana                  Courier Charges           195.0                         \n",
            "Khamgaon                  Courier Charges           2710.0                        \n",
            "Karanja                   Courier Charges           4700.0                        \n",
            "Washim                    Courier Charges           6872.0                        \n",
            "Arni                      Courier Charges           1630.0                        \n",
            "Pusad                     Courier Charges           8630.0                        \n",
            "Yavatmal                  Courier Charges           11374.0                       \n",
            "Aurangabad                Courier Charges           4333.0                        \n",
            "Kannad                    Courier Charges           4240.0                        \n",
            "SILLOD                    Courier Charges           5280.0                        \n",
            "Vaijapur                  Courier Charges           5470.0                        \n",
            "Beed                      Courier Charges           4470.0                        \n",
            "Parali                    Courier Charges           1110.0                        \n",
            "Parali                    Courier Charges           1790.0                        \n",
            "Hingoli                   Courier Charges           8250.0                        \n",
            "Jafrabad                  Courier Charges           4243.0                        \n",
            "Jalna                     Courier Charges           13300.0                       \n",
            "Jalna                     Courier Charges           170.0                         \n",
            "Mantha                    Courier Charges           1760.0                        \n",
            "Kinwat                    Courier Charges           1150.0                        \n",
            "Mukhed                    Courier Charges           2610.0                        \n",
            "Nanded                    Courier Charges           5870.0                        \n",
            "Jintur                    Courier Charges           1920.0                        \n",
            "Parbhani                  Courier Charges           3198.0                        \n",
            "Bambavade                 Courier Charges           1460.0                        \n",
            "Gadhinglaj                Courier Charges           14784.0                       \n",
            "Kolhapur                  Courier Charges           390.0                         \n",
            "Kolhapur                  Courier Charges           7236.0                        \n",
            "Chiplun                   Courier Charges           1795.0                        \n",
            "Khed                      Courier Charges           1960.0                        \n",
            "Ratnagiri                 Courier Charges           8581.0                        \n",
            "Atpadi                    Courier Charges           930.0                         \n",
            "Islampur                  Courier Charges           5309.0                        \n",
            "Dahiwadi                  Courier Charges           2380.0                        \n",
            "Karad                     Courier Charges           3145.0                        \n",
            "Khandala                  Courier Charges           3309.0                        \n",
            "Satara                    Courier Charges           3810.0                        \n",
            "Kudal                     Courier Charges           2725.0                        \n",
            "Sawantwadi                Courier Charges           5250.0                        \n",
            "Talere                    Courier Charges           1560.0                        \n",
            "Dahanu                    Courier Charges           300.0                         \n",
            "Virar                     Courier Charges           60.0                          \n",
            "Alibaug                   Courier Charges           4130.0                        \n",
            "Alibaug                   Courier Charges           600.0                         \n",
            "Kharghar                  Courier Charges           250.0                         \n",
            "Mangaon                   Courier Charges           4100.0                        \n",
            "Shahapur                  Courier Charges           560.0                         \n",
            "Bhandara                  Courier Charges           10870.0                       \n",
            "Tumsar                    Courier Charges           5370.0                        \n",
            "Chandrapur                Courier Charges           6434.0                        \n",
            "Nagbhid                   Courier Charges           3965.0                        \n",
            "Sindewahi                 Courier Charges           3170.0                        \n",
            "Warora                    Courier Charges           2060.0                        \n",
            "Gadchiroli                Courier Charges           8570.0                        \n",
            "Kurkheda                  Courier Charges           2360.0                        \n",
            "Sironcha                  Courier Charges           1660.0                        \n",
            "DEORI                     Courier Charges           2900.0                        \n",
            "Gondia                    Courier Charges           11690.0                       \n",
            "Nagpur                    Courier Charges           1840.0                        \n",
            "Nagpur                    Courier Charges           12886.0                       \n",
            "RAMTEK                    Courier Charges           1740.0                        \n",
            "Arvi                      Courier Charges           1500.0                        \n",
            "Hinganghat                Courier Charges           3800.0                        \n",
            "Wardha                    Courier Charges           3010.0                        \n",
            "Sakri                     Courier Charges           4230.0                        \n",
            "Shirpur                   Courier Charges           9750.0                        \n",
            "Jalgaon                   Courier Charges           7678.0                        \n",
            "MUKTAINAGAR               Courier Charges           7130.0                        \n",
            "Akkalkuwa                 Courier Charges           1830.0                        \n",
            "Akkalkuwa                 Courier Charges           1820.0                        \n",
            "Dhadgaon                  Courier Charges           2540.0                        \n",
            "Nandurbar                 Courier Charges           5700.0                        \n",
            "Navapur                   Courier Charges           2970.0                        \n",
            "Malegaon                  Courier Charges           9000.0                        \n",
            "Manmad                    Courier Charges           4395.0                        \n",
            "Surgana                   Courier Charges           5121.0                        \n",
            "Surgana                   Courier Charges           5700.0                        \n",
            "Trimbak                   Courier Charges           2390.0                        \n",
            "Jamkhed                   Courier Charges           3450.0                        \n",
            "Sangamner                 Courier Charges           6690.0                        \n",
            "Shevgaon                  Courier Charges           2140.0                        \n",
            "Shrigonda                 Courier Charges           1480.0                        \n",
            "Kallamb                   Courier Charges           1350.0                        \n",
            "Osmanabad                 Courier Charges           7090.0                        \n",
            "TULJAPUR                  Courier Charges           850.0                         \n",
            "Umerga                    Courier Charges           2860.0                        \n",
            "Baramati                  Courier Charges           4990.0                        \n",
            "Indapur                   Courier Charges           2860.0                        \n",
            "Junnar                    Courier Charges           4125.0                        \n",
            "Pune                      Courier Charges           8072.0                        \n",
            "Rajgurnagar               Courier Charges           3020.0                        \n",
            "Shirur                    Courier Charges           4012.0                        \n",
            "Swargate                  Courier Charges           1463.0                        \n",
            "Akkalkot                  Courier Charges           1940.0                        \n",
            "Barshi                    Courier Charges           1000.0                        \n",
            "Pandharpur                Courier Charges           4450.0                        \n",
            "Solapur                   Courier Charges           4370.0                        \n"
          ],
          "name": "stdout"
        }
      ]
    },
    {
      "cell_type": "code",
      "metadata": {
        "colab": {
          "base_uri": "https://localhost:8080/",
          "height": 47
        },
        "id": "7JVCiAc_eEXA",
        "outputId": "229abb7f-7764-401a-949a-5acf505e6dce"
      },
      "source": [
        "Annexure8Tallydata_one[Annexure8Tallydata_one['Particulars']=='BEED']"
      ],
      "execution_count": 437,
      "outputs": [
        {
          "output_type": "execute_result",
          "data": {
            "text/html": [
              "<div>\n",
              "<style scoped>\n",
              "    .dataframe tbody tr th:only-of-type {\n",
              "        vertical-align: middle;\n",
              "    }\n",
              "\n",
              "    .dataframe tbody tr th {\n",
              "        vertical-align: top;\n",
              "    }\n",
              "\n",
              "    .dataframe thead th {\n",
              "        text-align: right;\n",
              "    }\n",
              "</style>\n",
              "<table border=\"1\" class=\"dataframe\">\n",
              "  <thead>\n",
              "    <tr style=\"text-align: right;\">\n",
              "      <th></th>\n",
              "      <th>Date</th>\n",
              "      <th>Particulars</th>\n",
              "      <th>Amount</th>\n",
              "      <th>Debit Amount</th>\n",
              "      <th>Credit Amount</th>\n",
              "    </tr>\n",
              "  </thead>\n",
              "  <tbody>\n",
              "  </tbody>\n",
              "</table>\n",
              "</div>"
            ],
            "text/plain": [
              "Empty DataFrame\n",
              "Columns: [Date, Particulars, Amount, Debit Amount, Credit Amount]\n",
              "Index: []"
            ]
          },
          "metadata": {
            "tags": []
          },
          "execution_count": 437
        }
      ]
    },
    {
      "cell_type": "code",
      "metadata": {
        "id": "-vRZG0z8m1Hc"
      },
      "source": [
        "# Annexure8Tallydata_one['Particulars'] = Annexure8Tallydata_one['Particulars'].str.upper()\n",
        "# Annexure8Tallydata_one['Particulars'] = Annexure8Tallydata_one['Particulars'].str.strip()\n",
        "# B=Annexure8Tallydata_one[\"Particulars\"].iloc[2314]\n",
        "\n"
      ],
      "execution_count": 438,
      "outputs": []
    },
    {
      "cell_type": "code",
      "metadata": {
        "colab": {
          "base_uri": "https://localhost:8080/"
        },
        "id": "dTVfOkb3r5gK",
        "outputId": "b5eb2835-b2fb-4352-f3d7-815a3bb7a451"
      },
      "source": [
        "print(str(B))"
      ],
      "execution_count": 439,
      "outputs": [
        {
          "output_type": "stream",
          "text": [
            "BEED\n"
          ],
          "name": "stdout"
        }
      ]
    },
    {
      "cell_type": "code",
      "metadata": {
        "colab": {
          "base_uri": "https://localhost:8080/"
        },
        "id": "vSlGOT2EoVH6",
        "outputId": "7d0a2795-da21-4171-bcd8-6a4827c04acd"
      },
      "source": [
        "tallydatadf.info()"
      ],
      "execution_count": 440,
      "outputs": [
        {
          "output_type": "stream",
          "text": [
            "<class 'pandas.core.frame.DataFrame'>\n",
            "Int64Index: 137 entries, 0 to 136\n",
            "Data columns (total 2 columns):\n",
            " #   Column           Non-Null Count  Dtype \n",
            "---  ------           --------------  ----- \n",
            " 0   LABNAME          137 non-null    object\n",
            " 1   Courier Charges  137 non-null    int64 \n",
            "dtypes: int64(1), object(1)\n",
            "memory usage: 3.2+ KB\n"
          ],
          "name": "stdout"
        }
      ]
    },
    {
      "cell_type": "code",
      "metadata": {
        "id": "RiORDdP_oE80"
      },
      "source": [
        "# tallydatadf['LABNAME'] = tallydatadf['LABNAME'].str.upper()\n",
        "# tallydatadf['LABNAME'] = tallydatadf['LABNAME'].str.strip()\n",
        "A=tallydatadf[tallydatadf['LABNAME']=='BEED']['LABNAME']"
      ],
      "execution_count": 441,
      "outputs": []
    },
    {
      "cell_type": "code",
      "metadata": {
        "colab": {
          "base_uri": "https://localhost:8080/"
        },
        "id": "DPjNrNLypjoa",
        "outputId": "2db86fb3-3ef6-49bb-dd27-9a2a6619cb8d"
      },
      "source": [
        "print(str(A))"
      ],
      "execution_count": 442,
      "outputs": [
        {
          "output_type": "stream",
          "text": [
            "20    BEED\n",
            "Name: LABNAME, dtype: object\n"
          ],
          "name": "stdout"
        }
      ]
    }
  ]
}